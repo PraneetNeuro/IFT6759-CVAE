{
 "cells": [
  {
   "cell_type": "code",
   "execution_count": 1,
   "id": "15534fb0",
   "metadata": {},
   "outputs": [
    {
     "name": "stdout",
     "output_type": "stream",
     "text": [
      "Requirement already satisfied: tqdm in ./env/lib/python3.7/site-packages (4.65.0)\n",
      "\u001b[33mYou are using pip version 19.0.3, however version 23.0.1 is available.\n",
      "You should consider upgrading via the 'pip install --upgrade pip' command.\u001b[0m\n"
     ]
    }
   ],
   "source": [
    "!pip install tqdm\n"
   ]
  },
  {
   "cell_type": "code",
   "execution_count": 2,
   "id": "ec20a65e",
   "metadata": {},
   "outputs": [
    {
     "name": "stderr",
     "output_type": "stream",
     "text": [
      "/Users/Tanner1/Desktop/MILA/Winter2023/IFT6759/IFT6759-CVAE/env/lib/python3.7/site-packages/tqdm/auto.py:21: TqdmWarning: IProgress not found. Please update jupyter and ipywidgets. See https://ipywidgets.readthedocs.io/en/stable/user_install.html\n",
      "  from .autonotebook import tqdm as notebook_tqdm\n"
     ]
    }
   ],
   "source": [
    "import wandb\n",
    "from baseline_architecture import AutoEncoder as AE\n",
    "# from dataset import Dataset"
   ]
  },
  {
   "cell_type": "code",
   "execution_count": 3,
   "id": "251c6a8e",
   "metadata": {},
   "outputs": [],
   "source": [
    "dataset_info={\n",
    "    'source': 'sketches.npy',\n",
    "    'target': 'originals.npy',\n",
    "    'condition': None,\n",
    "    'train_split': 0.8,\n",
    "}\n",
    "\n",
    "input_size = [128, 128]\n",
    "output_size = [268, 268]\n",
    "condition_size = 1024\n",
    "num_img = 100"
   ]
  },
  {
   "cell_type": "code",
   "execution_count": 4,
   "id": "0ba5b3fe",
   "metadata": {},
   "outputs": [
    {
     "name": "stderr",
     "output_type": "stream",
     "text": [
      "Failed to detect the name of this notebook, you can set it manually with the WANDB_NOTEBOOK_NAME environment variable to enable code saving.\n",
      "\u001b[34m\u001b[1mwandb\u001b[0m: Currently logged in as: \u001b[33mtanner-ducharme\u001b[0m (\u001b[33mift_6759\u001b[0m). Use \u001b[1m`wandb login --relogin`\u001b[0m to force relogin\n"
     ]
    },
    {
     "data": {
      "text/html": [
       "wandb version 0.13.11 is available!  To upgrade, please run:\n",
       " $ pip install wandb --upgrade"
      ],
      "text/plain": [
       "<IPython.core.display.HTML object>"
      ]
     },
     "metadata": {},
     "output_type": "display_data"
    },
    {
     "data": {
      "text/html": [
       "Tracking run with wandb version 0.13.10"
      ],
      "text/plain": [
       "<IPython.core.display.HTML object>"
      ]
     },
     "metadata": {},
     "output_type": "display_data"
    },
    {
     "data": {
      "text/html": [
       "Run data is saved locally in <code>/Users/Tanner1/Desktop/MILA/Winter2023/IFT6759/IFT6759-CVAE/wandb/run-20230309_131933-h5zilyd3</code>"
      ],
      "text/plain": [
       "<IPython.core.display.HTML object>"
      ]
     },
     "metadata": {},
     "output_type": "display_data"
    },
    {
     "data": {
      "text/html": [
       "Syncing run <strong><a href='https://wandb.ai/ift_6759/sketch-VAE/runs/h5zilyd3' target=\"_blank\">curious-deluge-28</a></strong> to <a href='https://wandb.ai/ift_6759/sketch-VAE' target=\"_blank\">Weights & Biases</a> (<a href='https://wandb.me/run' target=\"_blank\">docs</a>)<br/>"
      ],
      "text/plain": [
       "<IPython.core.display.HTML object>"
      ]
     },
     "metadata": {},
     "output_type": "display_data"
    },
    {
     "data": {
      "text/html": [
       " View project at <a href='https://wandb.ai/ift_6759/sketch-VAE' target=\"_blank\">https://wandb.ai/ift_6759/sketch-VAE</a>"
      ],
      "text/plain": [
       "<IPython.core.display.HTML object>"
      ]
     },
     "metadata": {},
     "output_type": "display_data"
    },
    {
     "data": {
      "text/html": [
       " View run at <a href='https://wandb.ai/ift_6759/sketch-VAE/runs/h5zilyd3' target=\"_blank\">https://wandb.ai/ift_6759/sketch-VAE/runs/h5zilyd3</a>"
      ],
      "text/plain": [
       "<IPython.core.display.HTML object>"
      ]
     },
     "metadata": {},
     "output_type": "display_data"
    },
    {
     "name": "stderr",
     "output_type": "stream",
     "text": [
      "/Users/Tanner1/Desktop/MILA/Winter2023/IFT6759/IFT6759-CVAE/env/lib/python3.7/site-packages/torch/nn/modules/lazy.py:180: UserWarning: Lazy modules are a new feature under heavy development so changes to the API or functionality can happen at any moment.\n",
      "  warnings.warn('Lazy modules are a new feature under heavy development '\n"
     ]
    }
   ],
   "source": [
    "AE = AE(input_size=input_size,\n",
    "          output_size=output_size,\n",
    "          condition_size=condition_size,\n",
    "          num_img = num_img,\n",
    "          dataset_info = dataset_info)"
   ]
  },
  {
   "cell_type": "code",
   "execution_count": 5,
   "id": "f631d16a",
   "metadata": {},
   "outputs": [
    {
     "name": "stdout",
     "output_type": "stream",
     "text": [
      "Epoch 0 Loss: 17529.30859375\n",
      "Validation Loss: 16676.080078125\n",
      "Epoch 1 Loss: 17424.439453125\n",
      "Validation Loss: 16572.4609375\n",
      "Epoch 2 Loss: 17315.416015625\n",
      "Validation Loss: 16464.671875\n"
     ]
    },
    {
     "data": {
      "text/html": [
       "Waiting for W&B process to finish... <strong style=\"color:green\">(success).</strong>"
      ],
      "text/plain": [
       "<IPython.core.display.HTML object>"
      ]
     },
     "metadata": {},
     "output_type": "display_data"
    },
    {
     "data": {
      "text/html": [
       "<style>\n",
       "    table.wandb td:nth-child(1) { padding: 0 10px; text-align: left ; width: auto;} td:nth-child(2) {text-align: left ; width: 100%}\n",
       "    .wandb-row { display: flex; flex-direction: row; flex-wrap: wrap; justify-content: flex-start; width: 100% }\n",
       "    .wandb-col { display: flex; flex-direction: column; flex-basis: 100%; flex: 1; padding: 10px; }\n",
       "    </style>\n",
       "<div class=\"wandb-row\"><div class=\"wandb-col\"><h3>Run history:</h3><br/><table class=\"wandb\"><tr><td>epoch</td><td>▁▅█</td></tr><tr><td>train-PSNR</td><td>▁▄█</td></tr><tr><td>train-SSIM</td><td>▁▄█</td></tr><tr><td>train-reconstruction-loss</td><td>█▅▁</td></tr><tr><td>valid-PSNR</td><td>▁▄█</td></tr><tr><td>valid-SSIM</td><td>▁▄█</td></tr><tr><td>valid-reconstruction-loss</td><td>█▅▁</td></tr></table><br/></div><div class=\"wandb-col\"><h3>Run summary:</h3><br/><table class=\"wandb\"><tr><td>epoch</td><td>3</td></tr><tr><td>train-PSNR</td><td>5.74647</td></tr><tr><td>train-SSIM</td><td>0.00355</td></tr><tr><td>train-reconstruction-loss</td><td>17315.41602</td></tr><tr><td>valid-PSNR</td><td>5.96527</td></tr><tr><td>valid-SSIM</td><td>5.96527</td></tr><tr><td>valid-reconstruction-loss</td><td>16464.67188</td></tr></table><br/></div></div>"
      ],
      "text/plain": [
       "<IPython.core.display.HTML object>"
      ]
     },
     "metadata": {},
     "output_type": "display_data"
    },
    {
     "data": {
      "text/html": [
       " View run <strong style=\"color:#cdcd00\">curious-deluge-28</strong> at: <a href='https://wandb.ai/ift_6759/sketch-VAE/runs/h5zilyd3' target=\"_blank\">https://wandb.ai/ift_6759/sketch-VAE/runs/h5zilyd3</a><br/>Synced 5 W&B file(s), 0 media file(s), 0 artifact file(s) and 0 other file(s)"
      ],
      "text/plain": [
       "<IPython.core.display.HTML object>"
      ]
     },
     "metadata": {},
     "output_type": "display_data"
    },
    {
     "data": {
      "text/html": [
       "Find logs at: <code>./wandb/run-20230309_131933-h5zilyd3/logs</code>"
      ],
      "text/plain": [
       "<IPython.core.display.HTML object>"
      ]
     },
     "metadata": {},
     "output_type": "display_data"
    }
   ],
   "source": [
    "AE.train(epochs=3, batch_size=128, save_path = 'model.pth')"
   ]
  },
  {
   "cell_type": "code",
   "execution_count": null,
   "id": "e93b1802",
   "metadata": {},
   "outputs": [],
   "source": []
  }
 ],
 "metadata": {
  "kernelspec": {
   "display_name": "Python 3 (ipykernel)",
   "language": "python",
   "name": "python3"
  },
  "language_info": {
   "codemirror_mode": {
    "name": "ipython",
    "version": 3
   },
   "file_extension": ".py",
   "mimetype": "text/x-python",
   "name": "python",
   "nbconvert_exporter": "python",
   "pygments_lexer": "ipython3",
   "version": "3.7.3"
  }
 },
 "nbformat": 4,
 "nbformat_minor": 5
}
